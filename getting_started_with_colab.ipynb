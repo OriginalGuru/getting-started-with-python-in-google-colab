{
  "nbformat": 4,
  "nbformat_minor": 0,
  "metadata": {
    "colab": {
      "provenance": [],
      "authorship_tag": "ABX9TyOMMZilExA5AleOtTOnhKif",
      "include_colab_link": true
    },
    "kernelspec": {
      "name": "python3",
      "display_name": "Python 3"
    },
    "language_info": {
      "name": "python"
    }
  },
  "cells": [
    {
      "cell_type": "markdown",
      "metadata": {
        "id": "view-in-github",
        "colab_type": "text"
      },
      "source": [
        "<a href=\"https://colab.research.google.com/github/OriginalGuru/getting-started-with-python-in-google-colab/blob/main/getting_started_with_colab.ipynb\" target=\"_parent\"><img src=\"https://colab.research.google.com/assets/colab-badge.svg\" alt=\"Open In Colab\"/></a>"
      ]
    },
    {
      "cell_type": "markdown",
      "source": [
        "# Python in Google Colab\n",
        "\n",
        "Welcome!  \n",
        "This first notebook introduces the Colab environment, basic Python objects, and how to read error messages.  \n",
        "\n",
        "💡**Saving your work to GitHub:**  \n",
        "If your notebook is connected to a GitHub repo, you can use **File → Save a copy in GitHub** to commit your progress."
      ],
      "metadata": {
        "id": "FM3MOqhdzqTc"
      }
    },
    {
      "cell_type": "markdown",
      "source": [
        "## 1. Text vs Code Cells\n",
        "\n",
        "- Add a **text cell** with `+ Text`.  \n",
        "- Add a **code cell** with `+ Code`.  \n",
        "- Run a code cell with **Shift+Enter** or by clicking the ▶️ button.\n",
        "\n",
        "When you run a cell, Python executes it and shows the result.\n",
        "\n",
        "✅**Checkpoint:** Remember to save your notebook to GitHub (File → Save a copy in GitHub)."
      ],
      "metadata": {
        "id": "JWBZPwC_0GGn"
      }
    },
    {
      "cell_type": "code",
      "source": [
        "# This is a code cell\n",
        "print(\"Hello, world!\")"
      ],
      "metadata": {
        "colab": {
          "base_uri": "https://localhost:8080/"
        },
        "id": "bn2SNCnsz_xi",
        "outputId": "de6e832e-5bc6-468b-ef36-6a798672d962"
      },
      "execution_count": 1,
      "outputs": [
        {
          "output_type": "stream",
          "name": "stdout",
          "text": [
            "Hello, world!\n"
          ]
        }
      ]
    },
    {
      "cell_type": "markdown",
      "source": [
        "### Exercise 1\n",
        "1. Add a **text cell** below introducing yourself in one sentence.  \n",
        "2. Add a **code cell** that prints `\"Nice to meet you!\"`."
      ],
      "metadata": {
        "id": "rAcCU4Qf1TOJ"
      }
    },
    {
      "cell_type": "markdown",
      "source": [
        "Hi, my name is Guru!"
      ],
      "metadata": {
        "id": "oc3Jwr3w15Gp"
      }
    },
    {
      "cell_type": "code",
      "source": [
        "print(\"Nice to meet you!\")"
      ],
      "metadata": {
        "id": "Z84mztms1ZWX",
        "outputId": "877248b7-88df-41ea-c356-135cfc1a42ea",
        "colab": {
          "base_uri": "https://localhost:8080/"
        }
      },
      "execution_count": 5,
      "outputs": [
        {
          "output_type": "stream",
          "name": "stdout",
          "text": [
            "Nice to meet you!\n"
          ]
        }
      ]
    },
    {
      "cell_type": "markdown",
      "source": [
        "## 2. Statements & Expressions\n",
        "\n",
        "- Python reads code **top to bottom, one line at a time**.  \n",
        "- An **expression** produces a value (like `2 + 3`).  \n",
        "- A **statement** does something (like `x = 5`).\n",
        "\n",
        "You can store values in variables with `=`."
      ],
      "metadata": {
        "id": "BC_WHU6d2K1B"
      }
    },
    {
      "cell_type": "code",
      "source": [
        "x = 5      # assignment statement\n",
        "y = x + 2  # expression on the right-hand side\n",
        "print(y)"
      ],
      "metadata": {
        "id": "alDGtnmf19Xf",
        "outputId": "a626bbfc-0290-4234-d5a1-071aefb9abaa",
        "colab": {
          "base_uri": "https://localhost:8080/"
        }
      },
      "execution_count": 6,
      "outputs": [
        {
          "output_type": "stream",
          "name": "stdout",
          "text": [
            "7\n"
          ]
        }
      ]
    },
    {
      "cell_type": "markdown",
      "source": [
        "### Exercise 2\n",
        "1. Create a variable that stores your name.  \n",
        "2. Print a message that says `\"Hello, <your name>!\"`.  \n",
        "   * You can add strings with `+`\n",
        "\n",
        "✅ **Checkpoint:** Save your changes to GitHub."
      ],
      "metadata": {
        "id": "fszPPmHB2aoQ"
      }
    },
    {
      "cell_type": "code",
      "source": [
        "name = \"Guru\"\n",
        "print(\"Hello, \" + name + \"!\")"
      ],
      "metadata": {
        "id": "BLX8AtGX2S17",
        "outputId": "6d3b9ba2-42d5-402b-cebf-af8f91f7b6d3",
        "colab": {
          "base_uri": "https://localhost:8080/"
        }
      },
      "execution_count": 10,
      "outputs": [
        {
          "output_type": "stream",
          "name": "stdout",
          "text": [
            "Hello, Guru!\n"
          ]
        }
      ]
    },
    {
      "cell_type": "code",
      "source": [],
      "metadata": {
        "id": "aMCB_gxF2j2u"
      },
      "execution_count": null,
      "outputs": []
    }
  ]
}
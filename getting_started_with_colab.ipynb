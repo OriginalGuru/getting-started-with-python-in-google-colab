{
  "nbformat": 4,
  "nbformat_minor": 0,
  "metadata": {
    "colab": {
      "provenance": [],
      "authorship_tag": "ABX9TyPC/NT4tv59Sgh9IfCwFfeC",
      "include_colab_link": true
    },
    "kernelspec": {
      "name": "python3",
      "display_name": "Python 3"
    },
    "language_info": {
      "name": "python"
    }
  },
  "cells": [
    {
      "cell_type": "markdown",
      "metadata": {
        "id": "view-in-github",
        "colab_type": "text"
      },
      "source": [
        "<a href=\"https://colab.research.google.com/github/OriginalGuru/getting-started-with-python-in-google-colab/blob/main/getting_started_with_colab.ipynb\" target=\"_parent\"><img src=\"https://colab.research.google.com/assets/colab-badge.svg\" alt=\"Open In Colab\"/></a>"
      ]
    },
    {
      "cell_type": "markdown",
      "source": [
        "# Python in Google Colab\n",
        "\n",
        "Welcome!  \n",
        "This first notebook introduces the Colab environment, basic Python objects, and how to read error messages.  \n",
        "\n",
        "💡**Saving your work to GitHub:**  \n",
        "If your notebook is connected to a GitHub repo, you can use **File → Save a copy in GitHub** to commit your progress."
      ],
      "metadata": {
        "id": "FM3MOqhdzqTc"
      }
    },
    {
      "cell_type": "markdown",
      "source": [
        "## 1. Text vs Code Cells\n",
        "\n",
        "- Add a **text cell** with `+ Text`.  \n",
        "- Add a **code cell** with `+ Code`.  \n",
        "- Run a code cell with **Shift+Enter** or by clicking the ▶️ button.\n",
        "\n",
        "When you run a cell, Python executes it and shows the result.\n",
        "\n",
        "✅**Checkpoint:** Remember to save your notebook to GitHub (File → Save a copy in GitHub)."
      ],
      "metadata": {
        "id": "JWBZPwC_0GGn"
      }
    },
    {
      "cell_type": "code",
      "source": [
        "# This is a code cell\n",
        "print(\"Hello, world!\")"
      ],
      "metadata": {
        "colab": {
          "base_uri": "https://localhost:8080/"
        },
        "id": "bn2SNCnsz_xi",
        "outputId": "de6e832e-5bc6-468b-ef36-6a798672d962"
      },
      "execution_count": 1,
      "outputs": [
        {
          "output_type": "stream",
          "name": "stdout",
          "text": [
            "Hello, world!\n"
          ]
        }
      ]
    },
    {
      "cell_type": "markdown",
      "source": [
        "### Exercise 1\n",
        "1. Add a **text cell** below introducing yourself in one sentence.  \n",
        "2. Add a **code cell** that prints `\"Nice to meet you!\"`."
      ],
      "metadata": {
        "id": "rAcCU4Qf1TOJ"
      }
    },
    {
      "cell_type": "markdown",
      "source": [
        "Hi, my name is Guru!"
      ],
      "metadata": {
        "id": "oc3Jwr3w15Gp"
      }
    },
    {
      "cell_type": "code",
      "source": [
        "print(\"Nice to meet you!\")"
      ],
      "metadata": {
        "colab": {
          "base_uri": "https://localhost:8080/"
        },
        "id": "Z84mztms1ZWX",
        "outputId": "877248b7-88df-41ea-c356-135cfc1a42ea"
      },
      "execution_count": 5,
      "outputs": [
        {
          "output_type": "stream",
          "name": "stdout",
          "text": [
            "Nice to meet you!\n"
          ]
        }
      ]
    },
    {
      "cell_type": "markdown",
      "source": [
        "## 2. Statements & Expressions\n",
        "\n",
        "- Python reads code **top to bottom, one line at a time**.  \n",
        "- An **expression** produces a value (like `2 + 3`).  \n",
        "- A **statement** does something (like `x = 5`).\n",
        "\n",
        "You can store values in variables with `=`."
      ],
      "metadata": {
        "id": "BC_WHU6d2K1B"
      }
    },
    {
      "cell_type": "code",
      "source": [
        "x = 5      # assignment statement\n",
        "y = x + 2  # expression on the right-hand side\n",
        "print(y)"
      ],
      "metadata": {
        "colab": {
          "base_uri": "https://localhost:8080/"
        },
        "id": "alDGtnmf19Xf",
        "outputId": "a626bbfc-0290-4234-d5a1-071aefb9abaa"
      },
      "execution_count": 6,
      "outputs": [
        {
          "output_type": "stream",
          "name": "stdout",
          "text": [
            "7\n"
          ]
        }
      ]
    },
    {
      "cell_type": "markdown",
      "source": [
        "### Exercise 2\n",
        "1. Create a variable that stores your name.  \n",
        "2. Print a message that says `\"Hello, <your name>!\"`.  \n",
        "   * You can concatenate strings with `+`\n",
        "\n",
        "✅ **Checkpoint:** Save your changes to GitHub."
      ],
      "metadata": {
        "id": "fszPPmHB2aoQ"
      }
    },
    {
      "cell_type": "code",
      "source": [
        "name = \"Guru\"\n",
        "print(\"Hello, \" + name + \"!\")"
      ],
      "metadata": {
        "colab": {
          "base_uri": "https://localhost:8080/"
        },
        "id": "BLX8AtGX2S17",
        "outputId": "3cc7182f-1f13-4f65-a94f-571c1132acfe"
      },
      "execution_count": 12,
      "outputs": [
        {
          "output_type": "stream",
          "name": "stdout",
          "text": [
            "Hello, Guru!\n"
          ]
        }
      ]
    },
    {
      "cell_type": "markdown",
      "source": [
        "## 3. Core Data Types\n",
        "\n",
        "Python has a few essential types:\n",
        "\n",
        "- Numbers: `int` (integers), `float` (decimals)  \n",
        "- Text: `str` (strings)  \n",
        "- True/False: `bool`  \n",
        "- Nothing: `None`  \n",
        "- Collections: `list` (ordered values)"
      ],
      "metadata": {
        "id": "R9fqciWs3XsM"
      }
    },
    {
      "cell_type": "code",
      "source": [
        "a = 42          # int\n",
        "b = 3.14        # float\n",
        "c = \"Python\"    # str\n",
        "d = True        # bool\n",
        "e = None        # special \"nothing\"\n",
        "\n",
        "numbers = [1, 2, 3]  # list\n",
        "print(a, b, c, d, e, numbers)"
      ],
      "metadata": {
        "colab": {
          "base_uri": "https://localhost:8080/"
        },
        "id": "aMCB_gxF2j2u",
        "outputId": "879993a0-2104-4dd8-e121-a673dda07f80"
      },
      "execution_count": 13,
      "outputs": [
        {
          "output_type": "stream",
          "name": "stdout",
          "text": [
            "42 3.14 Python True None [1, 2, 3]\n"
          ]
        }
      ]
    },
    {
      "cell_type": "markdown",
      "source": [
        "### Exercise 3\n",
        "1. Make a list with three numbers of your choice.  \n",
        "2. Print the sum and average of those numbers.\n",
        "   - Hint: try `sum(my_list)` and `len(my_list)`.\n",
        "\n",
        "✅ **Checkpoint:** Save your notebook after finishing the exercise."
      ],
      "metadata": {
        "id": "B87lL4p_3t91"
      }
    },
    {
      "cell_type": "code",
      "source": [
        "my_list = [6, 1, 8]\n",
        "average = sum(my_list) / len(my_list)\n",
        "print(average)"
      ],
      "metadata": {
        "colab": {
          "base_uri": "https://localhost:8080/"
        },
        "id": "Jc7TWeTm3kX6",
        "outputId": "2ebfbc8c-ce05-494a-a0cc-02649d028e58"
      },
      "execution_count": 20,
      "outputs": [
        {
          "output_type": "stream",
          "name": "stdout",
          "text": [
            "5.0\n"
          ]
        }
      ]
    },
    {
      "cell_type": "markdown",
      "source": [
        "## 4. Looking Around\n",
        "\n",
        "You can ask Python about objects:\n",
        "\n",
        "- `type(obj)` tells you the type.  \n",
        "- `dir(obj)` shows what functions and attributes are available.  \n",
        "- `help(obj)` (or `obj?` in Colab) shows documentation.  \n",
        "- Tab-completion in Colab lets you explore interactively."
      ],
      "metadata": {
        "id": "22uHbb9R4jXS"
      }
    },
    {
      "cell_type": "code",
      "source": [
        "word = \"hello\"\n",
        "print(type(word))\n",
        "print(dir(word)[:10])  # first 10 options"
      ],
      "metadata": {
        "colab": {
          "base_uri": "https://localhost:8080/"
        },
        "id": "NRrnm3SE4NFM",
        "outputId": "6703351f-a4bc-4199-abd2-cb555be60a54"
      },
      "execution_count": 29,
      "outputs": [
        {
          "output_type": "stream",
          "name": "stdout",
          "text": [
            "<class 'str'>\n",
            "['__add__', '__class__', '__contains__', '__delattr__', '__dir__', '__doc__', '__eq__', '__format__', '__ge__', '__getattribute__']\n"
          ]
        }
      ]
    },
    {
      "cell_type": "code",
      "source": [],
      "metadata": {
        "id": "uWxJ0E7r503l"
      },
      "execution_count": null,
      "outputs": []
    },
    {
      "cell_type": "markdown",
      "source": [
        "### Exercise 4\n",
        "1. Use `dir(str)` to see what strings can do.  \n",
        "2. Pick one method (e.g. `.upper()` or `.capitalize()`) and try it on a word.\n"
      ],
      "metadata": {
        "id": "K0awzQVL5LJ8"
      }
    },
    {
      "cell_type": "code",
      "source": [
        "dir(str)\n",
        "print(\"hello\".replace(\"h\",\"H\"))"
      ],
      "metadata": {
        "id": "b-9rIoAM4tFN",
        "outputId": "5729af9c-f8d5-415a-8a64-6bcb3961ba02",
        "colab": {
          "base_uri": "https://localhost:8080/"
        }
      },
      "execution_count": 45,
      "outputs": [
        {
          "output_type": "stream",
          "name": "stdout",
          "text": [
            "Hello\n"
          ]
        }
      ]
    },
    {
      "cell_type": "markdown",
      "source": [
        "## 5. Errors and Resilience\n",
        "\n",
        "When something goes wrong, Python shows a **traceback**.\n",
        "\n",
        "- The **last line** shows the error type and message.  \n",
        "- The **lines above** show where the error happened.  \n",
        "- Read from bottom → up.\n",
        "\n",
        "Here’s the **anatomy** of a simple traceback:\n"
      ],
      "metadata": {
        "id": "6tV6EBOT6Bf1"
      }
    },
    {
      "cell_type": "code",
      "source": [
        "# Example: NameError\n",
        "print(my_variable)  # oops, never defined!\n"
      ],
      "metadata": {
        "id": "mPDC0st85QL7",
        "outputId": "f9dd21e2-31c4-4634-8472-52c3b6f4360a",
        "colab": {
          "base_uri": "https://localhost:8080/",
          "height": 166
        }
      },
      "execution_count": 46,
      "outputs": [
        {
          "output_type": "error",
          "ename": "NameError",
          "evalue": "name 'my_variable' is not defined",
          "traceback": [
            "\u001b[0;31m---------------------------------------------------------------------------\u001b[0m",
            "\u001b[0;31mNameError\u001b[0m                                 Traceback (most recent call last)",
            "\u001b[0;32m/tmp/ipython-input-740855557.py\u001b[0m in \u001b[0;36m<cell line: 0>\u001b[0;34m()\u001b[0m\n\u001b[1;32m      1\u001b[0m \u001b[0;31m# Example: NameError\u001b[0m\u001b[0;34m\u001b[0m\u001b[0;34m\u001b[0m\u001b[0m\n\u001b[0;32m----> 2\u001b[0;31m \u001b[0mprint\u001b[0m\u001b[0;34m(\u001b[0m\u001b[0mmy_variable\u001b[0m\u001b[0;34m)\u001b[0m  \u001b[0;31m# oops, never defined!\u001b[0m\u001b[0;34m\u001b[0m\u001b[0;34m\u001b[0m\u001b[0m\n\u001b[0m",
            "\u001b[0;31mNameError\u001b[0m: name 'my_variable' is not defined"
          ]
        }
      ]
    },
    {
      "cell_type": "markdown",
      "source": [
        "**Typical traceback output:**\n",
        "\n",
        "```python\n",
        "---------------------------------------------------------------------------\n",
        "\n",
        "NameError                                 Traceback (most recent call last)\n",
        "\n",
        "/tmp/ipython-input-740855557.py in <cell line: 0>()\n",
        "      1 # Example: NameError\n",
        "----> 2 print(my_variable)  # oops, never defined!\n",
        "\n",
        "NameError: name 'my_variable' is not defined\n",
        "```\n",
        "\n",
        "\n",
        "- **\"Traceback (most recent call last)\"**: Python is about to explain the error.  \n",
        "- **File/line info**: shows which cell and line failed.  \n",
        "- **Error type + message**: here it's `NameError`, with explanation.\n",
        "\n",
        "✅ **Checkpoint:** Save your work after running the error example.\n"
      ],
      "metadata": {
        "id": "lDucU0Jm6Pxn"
      }
    },
    {
      "cell_type": "code",
      "source": [],
      "metadata": {
        "id": "XXLgNKki6Gkg"
      },
      "execution_count": null,
      "outputs": []
    }
  ]
}